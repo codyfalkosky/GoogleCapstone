{
 "cells": [
  {
   "cell_type": "markdown",
   "id": "3d5dd102-ea5a-4e31-8f1d-3087b16d9483",
   "metadata": {},
   "source": [
    "## How to Increase Employee Retention"
   ]
  },
  {
   "cell_type": "markdown",
   "id": "a9f2163c-a3cb-409d-b46d-5af263a53f78",
   "metadata": {},
   "source": [
    "After in-depth data [exploration](1_Data_Exploration_Cleaning.ipynb), [modeling](2_Modeling.ipynb) and [analysis](3_Data_Analysis.ipynb), key insights will be shared in this notebook as well as [reccommendations](4_Solution_Analysis.ipynb) for increasing employee retention."
   ]
  },
  {
   "cell_type": "markdown",
   "id": "81095d8f-13ae-4233-b4b8-cf209ac8ccbc",
   "metadata": {},
   "source": [
    "### Insight 1: Satisfaction is the biggest predictor of employee churn.\n",
    "\n",
    "*graph below shows how much each factor contributes to an employee staying or leaving*\n",
    "\n",
    "<br><br>\n",
    "![feature importance](./images/feature_importance.png)"
   ]
  },
  {
   "cell_type": "markdown",
   "id": "2ac87076-a69d-43c0-a3fc-13c614c2194f",
   "metadata": {},
   "source": [
    "##### takeaway: satisfaction is very important\n",
    "<br><br><br>"
   ]
  },
  {
   "cell_type": "markdown",
   "id": "e0d14278-8b86-4cf3-9e0a-20157dc272ea",
   "metadata": {},
   "source": [
    "### Insight 2: There are 3 Categories of employees who leave\n",
    "\n",
    "![happy hard worker](./images/happy_hard_worker.png)\n",
    "![underperformer](./images/underperformer.png)\n",
    "![unhappy very hard worker](./images/unhappy_very_hard_worker.png)"
   ]
  },
  {
   "cell_type": "markdown",
   "id": "7c1efa14-c152-467b-99b5-c1da3784fc9e",
   "metadata": {},
   "source": [
    "##### takeaway: there is an ideal workload\n",
    "\n",
    "<br><br><br>"
   ]
  },
  {
   "cell_type": "markdown",
   "id": "981deb1d-07f8-4869-929e-617485d16a82",
   "metadata": {},
   "source": [
    "### Insight 3: Ideal Hours & Ideal Projects"
   ]
  },
  {
   "cell_type": "markdown",
   "id": "e00e2d37-f325-42d7-b1b4-8db09af6f3d5",
   "metadata": {},
   "source": [
    "![hours](./images/by_hours.png)\n",
    "![projects](./images/by_projects.png)"
   ]
  },
  {
   "cell_type": "markdown",
   "id": "24a5066f-b533-48b4-acc6-c2ff1339c1ac",
   "metadata": {},
   "source": [
    "##### takeaway: the ideal weekly hours are 24-31 or 40-54 & ideal number of projects is 3 or 4\n",
    "\n",
    "<br><br><br>"
   ]
  },
  {
   "cell_type": "markdown",
   "id": "f5202f89-0a7c-4154-ab29-64eb641be1e1",
   "metadata": {},
   "source": [
    "### Insight 4: There are enough underworked employees to absorb the overworked\n",
    "\n",
    "** assuming there are no part-time employees [data not available] **"
   ]
  },
  {
   "cell_type": "markdown",
   "id": "3ac34a87-62dd-4cd6-b436-e63c5761397a",
   "metadata": {},
   "source": [
    "![hours](./images/hours.png)\n",
    "![projects](./images/projects.png)"
   ]
  },
  {
   "cell_type": "markdown",
   "id": "693a3a8d-f85d-47fe-b58c-cc112158d2a0",
   "metadata": {},
   "source": [
    "### Conclusion: Redistributing the Workload would increase employee retention."
   ]
  },
  {
   "cell_type": "markdown",
   "id": "91241f67-64cf-441a-9be5-d4f84cf17797",
   "metadata": {},
   "source": [
    "While predicting the exact number of retained employees presents many challanges we can at least use our model as a rough guide to see the effect of redistribuing the workload.  Of course there are many more factors at play when it comes to redistribuing the work, however the basic truth remains.  There is an ideal workload and the farther employees are pushed away from it, the higher their likelyhood of churn."
   ]
  },
  {
   "cell_type": "markdown",
   "id": "c2c9998f-fd5b-446e-a2fc-0737b86c2c53",
   "metadata": {},
   "source": [
    "![redistributed](./images/redistributed.png)"
   ]
  },
  {
   "cell_type": "markdown",
   "id": "6d3ba094-5e37-45f6-8cbc-de86fe6fdd49",
   "metadata": {},
   "source": [
    "### Issues:\n",
    "\n",
    "Though these high-accuracy models predict fantastic results, there are a number of issues to keep in mind.\n",
    "\n",
    "This type of workload redistribution may not be possible considering many variables were not considered, such as:\n",
    "- employee skill level\n",
    "- project team synergy\n",
    "- difficulty of offloading a project\n",
    "- willingness to take on more projects or more hours\n",
    "- many more"
   ]
  },
  {
   "cell_type": "markdown",
   "id": "a1b84e0d-be34-460a-ab66-f21d1998180c",
   "metadata": {},
   "source": [
    "### Further Studies:"
   ]
  },
  {
   "cell_type": "markdown",
   "id": "dd5788c6-e8e5-4bae-861b-102403c31eba",
   "metadata": {},
   "source": [
    "By gathering additional data on employees such as:\n",
    "- satisfaction reasons\n",
    "- willingness to work more hours\n",
    "- willingness to work on more projects\n",
    "- specific skillset\n",
    "- desired / undesired projects\n",
    "- budget for hours\n",
    "\n",
    "The feasibility of redistribution could be more accurately assessed."
   ]
  }
 ],
 "metadata": {
  "kernelspec": {
   "display_name": "Python 3 (ipykernel)",
   "language": "python",
   "name": "python3"
  },
  "language_info": {
   "codemirror_mode": {
    "name": "ipython",
    "version": 3
   },
   "file_extension": ".py",
   "mimetype": "text/x-python",
   "name": "python",
   "nbconvert_exporter": "python",
   "pygments_lexer": "ipython3",
   "version": "3.12.0"
  }
 },
 "nbformat": 4,
 "nbformat_minor": 5
}
