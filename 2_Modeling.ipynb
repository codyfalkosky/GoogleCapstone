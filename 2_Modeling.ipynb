{
 "cells": [
  {
   "cell_type": "code",
   "execution_count": 1,
   "id": "8426dc9d-508b-4c57-9faa-5cca3de72dc4",
   "metadata": {},
   "outputs": [],
   "source": [
    "# standard\n",
    "import numpy as np\n",
    "import pandas as pd\n",
    "import matplotlib.pyplot as plt\n",
    "\n",
    "# for notebook\n",
    "from tqdm.notebook import tqdm\n",
    "\n",
    "# models to try\n",
    "from sklearn.linear_model import LogisticRegression\n",
    "from sklearn.ensemble import RandomForestClassifier\n",
    "from xgboost import XGBClassifier\n",
    "from sklearn.svm import SVC\n",
    "from sklearn.neighbors import KNeighborsClassifier\n",
    "import tensorflow as tf\n",
    "tf.config.set_visible_devices([], 'GPU')\n",
    "\n",
    "# data processing\n",
    "from sklearn.model_selection import train_test_split\n",
    "from sklearn.preprocessing import StandardScaler\n",
    "\n",
    "# hyperparameter tuning\n",
    "from skopt import BayesSearchCV\n",
    "from skopt.space import Real, Categorical, Integer\n",
    "from sklearn.pipeline import Pipeline\n",
    "\n",
    "# model evaluation\n",
    "from sklearn.metrics import f1_score\n",
    "\n",
    "# for loading and saving\n",
    "import pickle"
   ]
  },
  {
   "cell_type": "markdown",
   "id": "e315dfc7-a997-4c9c-947d-8aa1f32727cb",
   "metadata": {},
   "source": [
    "## Summary"
   ]
  },
  {
   "cell_type": "markdown",
   "id": "c01e3bc1-464e-4521-8fd6-db840f15ffd3",
   "metadata": {},
   "source": [
    "This notebook will try multiple models to find the best predictive algorithm."
   ]
  },
  {
   "cell_type": "markdown",
   "id": "d6de9e65-f420-461d-b5b3-cd85217f4a05",
   "metadata": {},
   "source": [
    "## Load Data and Scale"
   ]
  },
  {
   "cell_type": "code",
   "execution_count": 2,
   "id": "d3fb6b9b-d84c-4c55-b360-5f4de2ededf6",
   "metadata": {},
   "outputs": [
    {
     "data": {
      "text/html": [
       "<div>\n",
       "<style scoped>\n",
       "    .dataframe tbody tr th:only-of-type {\n",
       "        vertical-align: middle;\n",
       "    }\n",
       "\n",
       "    .dataframe tbody tr th {\n",
       "        vertical-align: top;\n",
       "    }\n",
       "\n",
       "    .dataframe thead th {\n",
       "        text-align: right;\n",
       "    }\n",
       "</style>\n",
       "<table border=\"1\" class=\"dataframe\">\n",
       "  <thead>\n",
       "    <tr style=\"text-align: right;\">\n",
       "      <th></th>\n",
       "      <th>satisfaction_level</th>\n",
       "      <th>last_evaluation</th>\n",
       "      <th>number_projects</th>\n",
       "      <th>average_monthly_hours</th>\n",
       "      <th>years_with_company</th>\n",
       "      <th>work_accident</th>\n",
       "      <th>left</th>\n",
       "      <th>promotion_last_5years</th>\n",
       "      <th>department_RandD</th>\n",
       "      <th>department_accounting</th>\n",
       "      <th>department_hr</th>\n",
       "      <th>department_management</th>\n",
       "      <th>department_marketing</th>\n",
       "      <th>department_product_mng</th>\n",
       "      <th>department_sales</th>\n",
       "      <th>department_support</th>\n",
       "      <th>department_technical</th>\n",
       "      <th>salary_low</th>\n",
       "      <th>salary_medium</th>\n",
       "    </tr>\n",
       "  </thead>\n",
       "  <tbody>\n",
       "    <tr>\n",
       "      <th>0</th>\n",
       "      <td>0.38</td>\n",
       "      <td>0.53</td>\n",
       "      <td>0.285714</td>\n",
       "      <td>0.506452</td>\n",
       "      <td>0.3</td>\n",
       "      <td>0</td>\n",
       "      <td>1</td>\n",
       "      <td>0</td>\n",
       "      <td>0</td>\n",
       "      <td>0</td>\n",
       "      <td>0</td>\n",
       "      <td>0</td>\n",
       "      <td>0</td>\n",
       "      <td>0</td>\n",
       "      <td>1</td>\n",
       "      <td>0</td>\n",
       "      <td>0</td>\n",
       "      <td>1</td>\n",
       "      <td>0</td>\n",
       "    </tr>\n",
       "    <tr>\n",
       "      <th>1</th>\n",
       "      <td>0.80</td>\n",
       "      <td>0.86</td>\n",
       "      <td>0.714286</td>\n",
       "      <td>0.845161</td>\n",
       "      <td>0.6</td>\n",
       "      <td>0</td>\n",
       "      <td>1</td>\n",
       "      <td>0</td>\n",
       "      <td>0</td>\n",
       "      <td>0</td>\n",
       "      <td>0</td>\n",
       "      <td>0</td>\n",
       "      <td>0</td>\n",
       "      <td>0</td>\n",
       "      <td>1</td>\n",
       "      <td>0</td>\n",
       "      <td>0</td>\n",
       "      <td>0</td>\n",
       "      <td>1</td>\n",
       "    </tr>\n",
       "    <tr>\n",
       "      <th>2</th>\n",
       "      <td>0.11</td>\n",
       "      <td>0.88</td>\n",
       "      <td>1.000000</td>\n",
       "      <td>0.877419</td>\n",
       "      <td>0.4</td>\n",
       "      <td>0</td>\n",
       "      <td>1</td>\n",
       "      <td>0</td>\n",
       "      <td>0</td>\n",
       "      <td>0</td>\n",
       "      <td>0</td>\n",
       "      <td>0</td>\n",
       "      <td>0</td>\n",
       "      <td>0</td>\n",
       "      <td>1</td>\n",
       "      <td>0</td>\n",
       "      <td>0</td>\n",
       "      <td>0</td>\n",
       "      <td>1</td>\n",
       "    </tr>\n",
       "    <tr>\n",
       "      <th>3</th>\n",
       "      <td>0.72</td>\n",
       "      <td>0.87</td>\n",
       "      <td>0.714286</td>\n",
       "      <td>0.719355</td>\n",
       "      <td>0.5</td>\n",
       "      <td>0</td>\n",
       "      <td>1</td>\n",
       "      <td>0</td>\n",
       "      <td>0</td>\n",
       "      <td>0</td>\n",
       "      <td>0</td>\n",
       "      <td>0</td>\n",
       "      <td>0</td>\n",
       "      <td>0</td>\n",
       "      <td>1</td>\n",
       "      <td>0</td>\n",
       "      <td>0</td>\n",
       "      <td>1</td>\n",
       "      <td>0</td>\n",
       "    </tr>\n",
       "    <tr>\n",
       "      <th>4</th>\n",
       "      <td>0.37</td>\n",
       "      <td>0.52</td>\n",
       "      <td>0.285714</td>\n",
       "      <td>0.512903</td>\n",
       "      <td>0.3</td>\n",
       "      <td>0</td>\n",
       "      <td>1</td>\n",
       "      <td>0</td>\n",
       "      <td>0</td>\n",
       "      <td>0</td>\n",
       "      <td>0</td>\n",
       "      <td>0</td>\n",
       "      <td>0</td>\n",
       "      <td>0</td>\n",
       "      <td>1</td>\n",
       "      <td>0</td>\n",
       "      <td>0</td>\n",
       "      <td>1</td>\n",
       "      <td>0</td>\n",
       "    </tr>\n",
       "  </tbody>\n",
       "</table>\n",
       "</div>"
      ],
      "text/plain": [
       "   satisfaction_level  last_evaluation  number_projects  \\\n",
       "0                0.38             0.53         0.285714   \n",
       "1                0.80             0.86         0.714286   \n",
       "2                0.11             0.88         1.000000   \n",
       "3                0.72             0.87         0.714286   \n",
       "4                0.37             0.52         0.285714   \n",
       "\n",
       "   average_monthly_hours  years_with_company  work_accident  left  \\\n",
       "0               0.506452                 0.3              0     1   \n",
       "1               0.845161                 0.6              0     1   \n",
       "2               0.877419                 0.4              0     1   \n",
       "3               0.719355                 0.5              0     1   \n",
       "4               0.512903                 0.3              0     1   \n",
       "\n",
       "   promotion_last_5years  department_RandD  department_accounting  \\\n",
       "0                      0                 0                      0   \n",
       "1                      0                 0                      0   \n",
       "2                      0                 0                      0   \n",
       "3                      0                 0                      0   \n",
       "4                      0                 0                      0   \n",
       "\n",
       "   department_hr  department_management  department_marketing  \\\n",
       "0              0                      0                     0   \n",
       "1              0                      0                     0   \n",
       "2              0                      0                     0   \n",
       "3              0                      0                     0   \n",
       "4              0                      0                     0   \n",
       "\n",
       "   department_product_mng  department_sales  department_support  \\\n",
       "0                       0                 1                   0   \n",
       "1                       0                 1                   0   \n",
       "2                       0                 1                   0   \n",
       "3                       0                 1                   0   \n",
       "4                       0                 1                   0   \n",
       "\n",
       "   department_technical  salary_low  salary_medium  \n",
       "0                     0           1              0  \n",
       "1                     0           0              1  \n",
       "2                     0           0              1  \n",
       "3                     0           1              0  \n",
       "4                     0           1              0  "
      ]
     },
     "execution_count": 2,
     "metadata": {},
     "output_type": "execute_result"
    }
   ],
   "source": [
    "# load and inspect\n",
    "model_data = pd.read_csv('./data/HR_data_for_model.csv', index_col=0)\n",
    "\n",
    "# scale\n",
    "for col in ['number_projects', 'average_monthly_hours', 'years_with_company']:\n",
    "    model_data[col] = model_data[col] / model_data[col].max()\n",
    "\n",
    "model_data.head()"
   ]
  },
  {
   "cell_type": "markdown",
   "id": "f501306a-dfd4-43cd-b2d0-49764c7d4bf4",
   "metadata": {},
   "source": [
    "## Drop Duplicates"
   ]
  },
  {
   "cell_type": "code",
   "execution_count": 3,
   "id": "bf182550-1ae2-4c45-8407-a61f62d4a4d7",
   "metadata": {},
   "outputs": [
    {
     "data": {
      "text/plain": [
       "0.2005467031135409"
      ]
     },
     "execution_count": 3,
     "metadata": {},
     "output_type": "execute_result"
    }
   ],
   "source": [
    "# calculate total percent duplicate rows\n",
    "model_data.duplicated().sum() / len(model_data)"
   ]
  },
  {
   "cell_type": "markdown",
   "id": "913cde5c-3277-4d51-bea0-fcb76a52324c",
   "metadata": {},
   "source": [
    "*approx. 20% of the data are duplicates, <br> while in later analysis, we will assume the duplicates are different people with the same experience and thus keep it, for modeling it is not helpful and will be dropped*"
   ]
  },
  {
   "cell_type": "code",
   "execution_count": 4,
   "id": "489fd57c-53df-4fa6-ad23-9ac8d2bec45c",
   "metadata": {},
   "outputs": [
    {
     "data": {
      "text/plain": [
       "0.0"
      ]
     },
     "execution_count": 4,
     "metadata": {},
     "output_type": "execute_result"
    }
   ],
   "source": [
    "# duplicates can skew model performance so they will be dropped for training\n",
    "model_data.drop_duplicates(inplace=True)\n",
    "\n",
    "# recount duplicates for verification \n",
    "model_data.duplicated().sum() / len(model_data)"
   ]
  },
  {
   "cell_type": "markdown",
   "id": "322a1a21-3e94-40e2-9e71-0fef0673b56a",
   "metadata": {},
   "source": [
    "## Train Test Split"
   ]
  },
  {
   "cell_type": "code",
   "execution_count": 5,
   "id": "0baea155-d946-4c86-b35b-fa210b4063ac",
   "metadata": {},
   "outputs": [],
   "source": [
    "# train/test data\n",
    "X = model_data.drop(columns=['left'])\n",
    "y = model_data['left']"
   ]
  },
  {
   "cell_type": "code",
   "execution_count": 6,
   "id": "6a025b6c-480f-4fa2-963b-576968a26ea5",
   "metadata": {},
   "outputs": [
    {
     "data": {
      "text/plain": [
       "left\n",
       "0    0.833959\n",
       "1    0.166041\n",
       "Name: proportion, dtype: float64"
      ]
     },
     "execution_count": 6,
     "metadata": {},
     "output_type": "execute_result"
    }
   ],
   "source": [
    "# observe target distribution\n",
    "y.value_counts(normalize=True)"
   ]
  },
  {
   "cell_type": "code",
   "execution_count": 7,
   "id": "6b3b33f9-816d-4a96-95ce-c81ad67b785d",
   "metadata": {},
   "outputs": [],
   "source": [
    "# data is stratified due to uneven distribution\n",
    "X_train, X_test, y_train, y_test = train_test_split(X, y, random_state=7, stratify=y)"
   ]
  },
  {
   "cell_type": "markdown",
   "id": "946824bd-e8b6-43c6-b7d5-6e4b256056b8",
   "metadata": {},
   "source": [
    "## Model Testing\n",
    "\n",
    "First, the following models will be tested and tuned with Bayesian Hyperparameter Optimization \n",
    "- Logistic Regression\n",
    "- Random Forest\n",
    "- Gradient Boosting\n",
    "- Support Vector\n",
    "\n"
   ]
  },
  {
   "cell_type": "markdown",
   "id": "70f80488-00d7-438c-93ae-f79aa0ced561",
   "metadata": {},
   "source": [
    "### Define Search Space\n",
    "\n",
    "Defines each model to be tested and the range of hyperparameters to be explored."
   ]
  },
  {
   "cell_type": "code",
   "execution_count": 8,
   "id": "ac1b698b-9bd8-4602-836d-9b91bb21f7a4",
   "metadata": {},
   "outputs": [],
   "source": [
    "# Logistic Regression Search\n",
    "log_reg_search = {\n",
    "    'model' : Categorical([LogisticRegression()]),\n",
    "    'model__C' : Real(.001, 1000, prior='log-uniform')\n",
    "}\n",
    "\n",
    "# Random Forest Search\n",
    "rnd_fst_search = {\n",
    "    'model': Categorical([RandomForestClassifier()]),\n",
    "    'model__n_estimators'     : Integer(10, 1000),\n",
    "    'model__max_depth'        : Integer(2,  1000),\n",
    "    'model__min_samples_leaf' : Integer(1, 20)  \n",
    "}\n",
    "\n",
    "# Random Forest Search\n",
    "xgb_cls_search = {\n",
    "    'model': Categorical([XGBClassifier()]),\n",
    "    'model__n_estimators'     : Integer(10, 1000),\n",
    "    'model__max_depth'        : Integer(1,  1000),\n",
    "    'model__learning_rate'    : Real(.01, .5)\n",
    "}\n",
    "\n",
    "# Support Vector Search\n",
    "svm_svc_search = {\n",
    "    'model': Categorical([SVC()]),\n",
    "    'model__C'      : Real(.001, 1000, prior='log-uniform'),\n",
    "    'model__kernel' : Categorical(['linear', 'poly', 'rbf'])\n",
    "}"
   ]
  },
  {
   "cell_type": "markdown",
   "id": "ca2d685c-3c15-4517-bc90-2986ababf006",
   "metadata": {},
   "source": [
    "### Perform Search\n",
    "\n",
    "Search all given models and parameters using 3-fold cross-validation."
   ]
  },
  {
   "cell_type": "code",
   "execution_count": 2,
   "id": "1f1b39bb-25af-4bc5-b02a-15ca87ca8b61",
   "metadata": {},
   "outputs": [],
   "source": [
    "# init dummy model\n",
    "search_model = Pipeline([('model', None)])\n",
    "\n",
    "# to handle depreciated numpy call\n",
    "np.int = int\n",
    "\n",
    "# define search\n",
    "bayes_model_search = BayesSearchCV(\n",
    "    search_model,\n",
    "    [\n",
    "        (log_reg_search, 50),\n",
    "        (rnd_fst_search, 500),\n",
    "        (xgb_cls_search, 500),\n",
    "        (svm_svc_search, 100),\n",
    "    ],\n",
    "    scoring='f1',\n",
    "    cv=3,\n",
    ")\n",
    "\n",
    "# search\n",
    "# bayes_model_search.fit(X_train, y_train)\n",
    "\n",
    "# load search file to save time\n",
    "with open('./pkl/bayes_model_search.pkl', 'rb') as file:\n",
    "    bayes_model_search = pickle.load(file)"
   ]
  },
  {
   "cell_type": "markdown",
   "id": "a2cf638c-c736-41eb-b818-c2e5bad1d79f",
   "metadata": {},
   "source": [
    "### F1 Score on Test Set for Best CV Models\n",
    "\n",
    "Choose the best hyperparameters for each model type and get an F1 Score on the test set."
   ]
  },
  {
   "cell_type": "code",
   "execution_count": 10,
   "id": "90db5675-a0ec-49a6-834f-c4ade2fbe634",
   "metadata": {},
   "outputs": [],
   "source": [
    "models = [['log_reg', LogisticRegression()],\n",
    "          ['rnd_fst', RandomForestClassifier()], \n",
    "          ['xgb_cls', XGBClassifier()],\n",
    "          ['svm_svc', SVC()]]\n",
    "\n",
    "test_f1_scores = {}\n",
    "indicies  = np.arange(1150)\n",
    "\n",
    "for model_name, model in models:\n",
    "    select   = [type(param_model) == type(model) for param_model in bayes_model_search.cv_results_['param_model']]\n",
    "    idx_best = bayes_model_search.cv_results_['mean_test_score'][select].argmax()\n",
    "    idx_best = indicies[select][idx_best]\n",
    "\n",
    "    search_model.set_params(**bayes_model_search.cv_results_['params'][idx_best])\n",
    "    search_model.fit(X_train, y_train)\n",
    "\n",
    "    y_pred = search_model.predict(X_test)\n",
    "    \n",
    "    test_f1_scores[model_name] = f1_score(y_test, y_pred)"
   ]
  },
  {
   "cell_type": "markdown",
   "id": "6876c05c-0847-4ef1-b463-5bace9dc43f9",
   "metadata": {},
   "source": [
    "### Neural Network Search\n",
    "\n",
    "A simple mlp will be hyperparameter tuned at various depths and widths."
   ]
  },
  {
   "cell_type": "markdown",
   "id": "0ff55499-6f3c-4c09-9daf-f6dd9143532c",
   "metadata": {},
   "source": [
    "*a custom implementation of `tf.keras.metrics.F1Score` due to a stange error with using `convert_to_tensor` instead of `cast`*"
   ]
  },
  {
   "cell_type": "code",
   "execution_count": 11,
   "id": "c0755ac0-f07e-440f-bf50-0f0406dfd7b8",
   "metadata": {},
   "outputs": [],
   "source": [
    "class F1Score(tf.keras.metrics.F1Score):\n",
    "    def __init__(self, **kwargs):\n",
    "        super().__init__(**kwargs)\n",
    "\n",
    "    def update_state(self, y_true, y_pred, sample_weight=None):\n",
    "        y_true = tf.cast(y_true, dtype=self.dtype) # changed to cast\n",
    "        y_pred = tf.cast(y_pred, dtype=self.dtype) # changed to cast\n",
    "        if not self.built:\n",
    "            self.build(y_true.shape, y_pred.shape)\n",
    "\n",
    "        if self.threshold is None:\n",
    "            threshold = tf.reduce_max(y_pred, axis=-1, keepdims=True)\n",
    "            # make sure [0, 0, 0] doesn't become [1, 1, 1]\n",
    "            # Use abs(x) > eps, instead of x != 0 to check for zero\n",
    "            y_pred = tf.logical_and(y_pred >= threshold, tf.abs(y_pred) > 1e-9)\n",
    "        else:\n",
    "            y_pred = y_pred > self.threshold\n",
    "        y_pred = tf.cast(y_pred, dtype=self.dtype)\n",
    "\n",
    "        def _weighted_sum(val, sample_weight):\n",
    "            if sample_weight is not None:\n",
    "                val = tf.math.multiply(val, tf.expand_dims(sample_weight, 1))\n",
    "            return tf.reduce_sum(val, axis=self.axis)\n",
    "\n",
    "        self.true_positives.assign_add(\n",
    "            _weighted_sum(y_pred * y_true, sample_weight)\n",
    "        )\n",
    "        self.false_positives.assign_add(\n",
    "            _weighted_sum(y_pred * (1 - y_true), sample_weight)\n",
    "        )\n",
    "        self.false_negatives.assign_add(\n",
    "            _weighted_sum((1 - y_pred) * y_true, sample_weight)\n",
    "        )\n",
    "        self.intermediate_weights.assign_add(\n",
    "            _weighted_sum(y_true, sample_weight)\n",
    "        ) "
   ]
  },
  {
   "cell_type": "markdown",
   "id": "c2dd3597-154a-4969-b8c3-7c9a7e671a7a",
   "metadata": {},
   "source": [
    "### Neural Network Hyperparameter Tuning\n",
    "\n",
    "This is a grid search over the following values:\n",
    "- hidden layers: {3, 4, 5, 6, 7}\n",
    "- nodes per layers: {128, 256, 512, 1024}"
   ]
  },
  {
   "cell_type": "code",
   "execution_count": 4,
   "id": "985f479e-d06b-4463-b499-1c37c9fd7f86",
   "metadata": {},
   "outputs": [],
   "source": [
    "layers = [range(3)] * 4 + [range(4)] * 4 + [range(5)] * 4 + [range(6)] * 4 + [range(7)] * 4\n",
    "nodes  = [128, 256, 512, 1024] * 5\n",
    "\n",
    "mlp_results = []\n",
    "\n",
    "for layers, nodes in tqdm(zip(layers, nodes), total=len(layers)):\n",
    "    continue # to save time, results loaded below\n",
    "\n",
    "    mlp = tf.keras.Sequential([\n",
    "        tf.keras.layers.Input([18]),\n",
    "        *[tf.keras.layers.Dense(nodes, 'relu') for _ in layers],\n",
    "        tf.keras.layers.Dense(1, 'sigmoid')\n",
    "    ])\n",
    "    \n",
    "    mlp.compile(optimizer='adam', loss='binary_crossentropy', metrics=[F1Score(threshold=0.5, dtype=tf.float32)])\n",
    "    history = mlp.fit(X_train, y_train, batch_size=64, epochs=200, validation_data=(X_test, y_test), verbose=0)\n",
    "\n",
    "    mlp_results.append([f'{layers}_{nodes}', np.array(history.history['val_f1_score']).max()])\n",
    "\n",
    "# results pre-calculated to save time\n",
    "with open('./pkl/mlp_results.pkl', 'rb') as file:\n",
    "    mlp_results = pickle.load(file)\n",
    "\n",
    "test_f1_scores['mlp_cls'] = pd.DataFrame(mlp_results)[1].max()"
   ]
  },
  {
   "cell_type": "markdown",
   "id": "daae48e9-4642-462e-b3e4-2eb087be3b2e",
   "metadata": {},
   "source": [
    "### Display Results"
   ]
  },
  {
   "cell_type": "code",
   "execution_count": 13,
   "id": "09a61186-7aaf-4e24-9217-706f2865041f",
   "metadata": {},
   "outputs": [
    {
     "data": {
      "image/png": "[encoded data removed]",
      "text/plain": [
       "<Figure size 700x700 with 1 Axes>"
      ]
     },
     "metadata": {},
     "output_type": "display_data"
    }
   ],
   "source": [
    "plt.figure(figsize=(7, 7))\n",
    "\n",
    "plt.bar(test_f1_scores.keys(), test_f1_scores.values())\n",
    "\n",
    "for x, y, s in zip(range(5), test_f1_scores.values(), test_f1_scores.values()):\n",
    "    s = round(s, 3)\n",
    "    plt.text(x, y, s, va='bottom', ha='center')\n",
    "\n",
    "plt.title('F1 Scores on Test Set')\n",
    "plt.xlabel('Model')\n",
    "plt.ylabel('F1 Score')\n",
    "plt.show()"
   ]
  },
  {
   "cell_type": "markdown",
   "id": "0c9a6bbf-266d-4a88-89b4-0032302629d0",
   "metadata": {},
   "source": [
    "### Best Model - XGBoost Classifier\n",
    "\n",
    "Though RandomForestClassifier performed the best on the 3-fold cross validation, XGBClassifier had the highest test set f1 score."
   ]
  },
  {
   "cell_type": "code",
   "execution_count": 14,
   "id": "aad4fc73-a465-4554-96e2-326e1c136893",
   "metadata": {},
   "outputs": [
    {
     "data": {
      "text/plain": [
       "OrderedDict([('model',\n",
       "              XGBClassifier(base_score=None, booster=None, callbacks=None,\n",
       "                            colsample_bylevel=None, colsample_bynode=None,\n",
       "                            colsample_bytree=None, early_stopping_rounds=None,\n",
       "                            enable_categorical=False, eval_metric=None, feature_types=None,\n",
       "                            gamma=None, gpu_id=None, grow_policy=None, importance_type=None,\n",
       "                            interaction_constraints=None, learning_rate=0.01, max_bin=None,\n",
       "                            max_cat_threshold=None, max_cat_to_onehot=None,\n",
       "                            max_delta_step=None, max_depth=7, max_leaves=None,\n",
       "                            min_child_weight=None, missing=nan, monotone_constraints=None,\n",
       "                            n_estimators=951, n_jobs=None, num_parallel_tree=None,\n",
       "                            predictor=None, random_state=None, ...)),\n",
       "             ('model__learning_rate', 0.01),\n",
       "             ('model__max_depth', 7),\n",
       "             ('model__n_estimators', 951)])"
      ]
     },
     "execution_count": 14,
     "metadata": {},
     "output_type": "execute_result"
    }
   ],
   "source": [
    "# show params of best XGBoost Classifier\n",
    "\n",
    "select   = [type(param_model) == type(XGBClassifier()) for param_model in bayes_model_search.cv_results_['param_model']]\n",
    "idx_best = bayes_model_search.cv_results_['mean_test_score'][select].argmax()\n",
    "idx_best = indicies[select][idx_best]\n",
    "bayes_model_search.cv_results_['params'][idx_best]"
   ]
  },
  {
   "cell_type": "markdown",
   "id": "77525d07-5f8c-4d33-b5cc-6bb3d697df90",
   "metadata": {},
   "source": [
    "### Re-Train Best Model\n",
    "\n",
    "XGBoost is a scale-invariant model.  To ease future model interpretation, it will be re-trained on un-scaled data."
   ]
  },
  {
   "cell_type": "code",
   "execution_count": 15,
   "id": "9262d5ea-c658-4a5e-bee3-5df4a44dc88f",
   "metadata": {},
   "outputs": [],
   "source": [
    "# reload unscaled data\n",
    "model_data = pd.read_csv('./data/HR_data_for_model.csv', index_col=0)\n",
    "\n",
    "model_data.drop_duplicates(inplace=True)\n",
    "\n",
    "# seperate inputs and targets\n",
    "X = model_data.drop(columns=['left'])\n",
    "y = model_data['left']\n",
    "\n",
    "# train test split\n",
    "X_train, X_test, y_train, y_test = train_test_split(X, y, random_state=7, stratify=y)"
   ]
  },
  {
   "cell_type": "code",
   "execution_count": 16,
   "id": "8d013c14-d4c9-4010-82f5-616d072af2a0",
   "metadata": {},
   "outputs": [
    {
     "name": "stdout",
     "output_type": "stream",
     "text": [
      "XGBoost Unscaled Data F1 Score: 0.953\n"
     ]
    }
   ],
   "source": [
    "# init XGBoost with best optimized hyperparameters\n",
    "\n",
    "model_params = {\n",
    "    'learning_rate' : 0.01,\n",
    "    'max_depth'     : 7,\n",
    "    'n_estimators'  : 951\n",
    "}\n",
    "model = XGBClassifier(**model_params)\n",
    "\n",
    "# train on unscaled data\n",
    "model.fit(X_train, y_train)\n",
    "\n",
    "# test on unscaled data\n",
    "y_pred = model.predict(X_test)\n",
    "\n",
    "# print results\n",
    "print('XGBoost Unscaled Data F1 Score:', round(f1_score(y_test, y_pred), 3))"
   ]
  },
  {
   "cell_type": "code",
   "execution_count": 27,
   "id": "5c5d89d7-ec6a-44b3-9bba-0b87440fb37a",
   "metadata": {},
   "outputs": [],
   "source": [
    "### save model\n",
    "\n",
    "# commented out for no-overwrite\n",
    "# with open('./pkl/xgb_best.pkl', 'wb') as file:\n",
    "#     pickle.dump(model, file)"
   ]
  },
  {
   "cell_type": "markdown",
   "id": "551d2610-c49e-4845-861e-28ac837f8740",
   "metadata": {},
   "source": [
    "### Next Step: [Analysis](3_Data_Analysis.ipynb)"
   ]
  }
 ],
 "metadata": {
  "kernelspec": {
   "display_name": "Python 3 (ipykernel)",
   "language": "python",
   "name": "python3"
  },
  "language_info": {
   "codemirror_mode": {
    "name": "ipython",
    "version": 3
   },
   "file_extension": ".py",
   "mimetype": "text/x-python",
   "name": "python",
   "nbconvert_exporter": "python",
   "pygments_lexer": "ipython3",
   "version": "3.12.0"
  }
 },
 "nbformat": 4,
 "nbformat_minor": 5
}
